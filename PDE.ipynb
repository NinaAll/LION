{
 "cells": [
  {
   "cell_type": "code",
   "execution_count": 1,
   "metadata": {},
   "outputs": [
    {
     "name": "stderr",
     "output_type": "stream",
     "text": [
      "/store/DAMTP/na673/mamba/envs/lion/lib/python3.10/site-packages/tqdm/auto.py:21: TqdmWarning: IProgress not found. Please update jupyter and ipywidgets. See https://ipywidgets.readthedocs.io/en/stable/user_install.html\n",
      "  from .autonotebook import tqdm as notebook_tqdm\n"
     ]
    }
   ],
   "source": [
    "import argparse\n",
    "import torch\n",
    "import torch.nn as nn\n",
    "#import data\n",
    "import utils\n",
    "#import model\n",
    "import numpy as np\n",
    "from tqdm import tqdm\n",
    "import scipy.io\n",
    "import matplotlib.pyplot as plt"
   ]
  },
  {
   "cell_type": "code",
   "execution_count": 2,
   "metadata": {},
   "outputs": [],
   "source": [
    "def fwd_gradients(obj, x):\n",
    "    dummy = torch.ones_like(obj)\n",
    "    derivative = torch.autograd.grad(obj, x, dummy, create_graph= True)[0]\n",
    "    return derivative\n",
    "\n",
    "def burgers_equation(u, tx):\n",
    "    u_tx = fwd_gradients(u, tx)\n",
    "    u_t = u_tx[:, 0:1]\n",
    "    u_x = u_tx[:, 1:2]\n",
    "    u_xx = fwd_gradients(u_x, tx)[:, 1:2]\n",
    "    e = u_t + u*u_x - (0.01/np.pi)*u_xx\n",
    "    return e\n",
    "\n",
    "def ac_equation(u, tx):\n",
    "    u_tx = fwd_gradients(u, tx)\n",
    "    u_t = u_tx[:, 0:1]\n",
    "    u_x = u_tx[:, 1:2]\n",
    "    u_xx = fwd_gradients(u_x, tx)[:, 1:2]\n",
    "    e = u_t -0.0001*u_xx + 5*u**3 - 5*u\n",
    "    return e \n",
    "\n",
    "def resplot(x, t, t_data, x_data, Exact, u_pred):\n",
    "    plt.figure(figsize=(10, 10))\n",
    "    plt.subplot(2, 2, 1)\n",
    "    plt.plot(x, Exact[:,0],'-')\n",
    "    plt.plot(x, u_pred[:,0],'--')\n",
    "    plt.legend(['Reference', 'Prediction'])\n",
    "    plt.title(\"Initial condition ($t=0$)\")\n",
    "    \n",
    "    plt.subplot(2, 2, 2)\n",
    "    t_step = int(0.25*len(t))\n",
    "    plt.plot(x, Exact[:,t_step],'-')\n",
    "    plt.plot(x, u_pred[:,t_step],'--')\n",
    "    plt.legend(['Reference', 'Prediction'])\n",
    "    plt.title(\"$t=0.25$\")\n",
    "    \n",
    "    plt.subplot(2, 2, 3)\n",
    "    t_step = int(0.5*len(t))\n",
    "    plt.plot(x, Exact[:,t_step],'-')\n",
    "    plt.plot(x, u_pred[:,t_step],'--')\n",
    "    plt.legend(['Reference', 'Prediction'])\n",
    "    plt.title(\"$t=0.5$\")\n",
    "    \n",
    "    plt.subplot(2, 2, 4)\n",
    "    t_step = int(0.99*len(t))\n",
    "    plt.plot(x, Exact[:,t_step],'-')\n",
    "    plt.plot(x, u_pred[:,t_step],'--')\n",
    "    plt.legend(['Reference', 'Prediction'])\n",
    "    plt.title(\"$t=0.99$\")\n",
    "    plt.show()\n",
    "    plt.close()"
   ]
  },
  {
   "cell_type": "code",
   "execution_count": 3,
   "metadata": {},
   "outputs": [],
   "source": [
    "def bg_generator(num_t, num_x, typ='train'):\n",
    "    N_f = num_t*num_x\n",
    "    t = np.linspace(0, 1, num_t).reshape(-1,1) # T x 1\n",
    "    x = np.linspace(-1, 1, num_x).reshape(-1,1) # N x 1\n",
    "    T = t.shape[0]\n",
    "    N = x.shape[0]\n",
    "    T_star = np.tile(t, (1, N)).T  # N x T\n",
    "    X_star = np.tile(x, (1, T))  # N x T\n",
    "    \n",
    "    # Initial condition and boundary condition\n",
    "    u = np.zeros((N, T))  # N x T\n",
    "    u[:,0:1] = -np.sin(np.pi*x)\n",
    "    \n",
    "    t_data = T_star.flatten()[:, None]\n",
    "    x_data = X_star.flatten()[:, None]\n",
    "    u_data = u.flatten()[:, None]\n",
    "    \n",
    "    t_data_f = t_data.copy()\n",
    "    x_data_f = x_data.copy()\n",
    "    \n",
    "    if typ == 'train':\n",
    "        idx = np.random.choice(np.where((x_data == -1) | (x_data == 1))[0], num_t)\n",
    "        t_data = t_data[idx]\n",
    "        x_data = x_data[idx]\n",
    "        u_data = u_data[idx]\n",
    "        \n",
    "        init_idx = np.random.choice(N-1, num_x-2, replace=False) + 1\n",
    "        t_data = np.concatenate([t_data, np.zeros((num_x-2,1))], axis=0)\n",
    "        x_data = np.concatenate([x_data, x[init_idx]], axis=0)\n",
    "        u_data = np.concatenate([u_data, u[init_idx,0:1]], axis=0)\n",
    "        \n",
    "        return t_data, x_data, u_data, t_data_f, x_data_f\n",
    "   \n",
    "    else:\n",
    "        return t_data_f, x_data_f\n",
    "\n",
    "def ac_generator(num_t, num_x, typ='train'):\n",
    "    N_f = num_t*num_x\n",
    "    t = np.linspace(0, 1, num_t).reshape(-1,1) # T x 1\n",
    "    x = np.linspace(-1, 1, num_x).reshape(-1,1) # N x 1\n",
    "    T = t.shape[0]\n",
    "    N = x.shape[0]\n",
    "    T_star = np.tile(t, (1, N)).T  # N x T\n",
    "    X_star = np.tile(x, (1, T))  # N x T\n",
    "    \n",
    "    # Initial condition and boundary condition\n",
    "    u = np.zeros((N, T))  # N x T\n",
    "    u[:,0:1] = (x**2)*np.cos(np.pi*x)\n",
    "    u[0,:] = -np.ones(T) \n",
    "    u[-1,:] = u[0,:]\n",
    "    \n",
    "    t_data = T_star.flatten()[:, None]\n",
    "    x_data = X_star.flatten()[:, None]\n",
    "    u_data = u.flatten()[:, None]\n",
    "    \n",
    "    t_data_f = t_data.copy()\n",
    "    x_data_f = x_data.copy()\n",
    "    \n",
    "    if typ == 'train':\n",
    "        idx = np.random.choice(np.where((x_data == -1) | (x_data == 1))[0], num_t)\n",
    "        t_data = t_data[idx]\n",
    "        x_data = x_data[idx]\n",
    "        u_data = u_data[idx]\n",
    "        \n",
    "        init_idx = np.random.choice(N-1, num_x-4, replace=False) + 1\n",
    "        t_data = np.concatenate([t_data, np.ones((2,1)), np.zeros((num_x-4,1))], axis=0)\n",
    "        x_data = np.concatenate([x_data, np.array([[-1], [1]]), x[init_idx]], axis=0)\n",
    "        u_data = np.concatenate([u_data, -np.ones((2,1)), u[init_idx,0:1]], axis=0)\n",
    "        \n",
    "        return t_data, x_data, u_data, t_data_f, x_data_f\n",
    "   \n",
    "    else:\n",
    "        return t_data_f, x_data_f"
   ]
  },
  {
   "cell_type": "code",
   "execution_count": 4,
   "metadata": {},
   "outputs": [],
   "source": [
    "class LinearBlock(nn.Module):\n",
    "\n",
    "    def __init__(self, in_nodes, out_nodes):\n",
    "        super(LinearBlock, self).__init__()\n",
    "        self.layer = nn.utils.weight_norm(nn.Linear(in_nodes, out_nodes), dim = 0)\n",
    "\n",
    "    def forward(self, x):\n",
    "        x = self.layer(x)\n",
    "        x = torch.tanh(x) \n",
    "        return x\n",
    "\n",
    "class PINN(nn.Module):\n",
    "\n",
    "    def __init__(self, layer_list):\n",
    "        super(PINN, self).__init__()\n",
    "        device = torch.device(\"cuda:0\" if torch.cuda.is_available() else \"cpu\")\n",
    "        self.input_layer = nn.utils.weight_norm(nn.Linear(layer_list[0], layer_list[1]), dim = 0)\n",
    "        self.hidden_layers = self._make_layer(layer_list[1:-1])\n",
    "        self.output_layer = nn.Linear(layer_list[-2], layer_list[-1])\n",
    "        \n",
    "    def _make_layer(self, layer_list):\n",
    "        layers = []\n",
    "        for i in range(len(layer_list) - 1):\n",
    "            block = LinearBlock(layer_list[i], layer_list[i + 1])\n",
    "            layers.append(block)\n",
    "        return nn.Sequential(*layers)\n",
    "\n",
    "    def forward(self, x):\n",
    "        x = self.input_layer(x)\n",
    "        x = torch.tanh(x) \n",
    "        x = self.hidden_layers(x)\n",
    "        x = self.output_layer(x)\n",
    "        return x\n",
    "\n",
    "def weights_init(m):\n",
    "    if isinstance(m, nn.Linear):\n",
    "        torch.nn.init.xavier_normal_(m.weight)\n",
    "\n",
    "def pinn(layer_list):\n",
    "    model = PINN(layer_list)\n",
    "    model.apply(weights_init)\n",
    "    return model"
   ]
  },
  {
   "cell_type": "code",
   "execution_count": 5,
   "metadata": {},
   "outputs": [],
   "source": [
    "num_t = 100\n",
    "num_x = 256\n",
    "num_epochs = 50000\n",
    "num_hidden = 4\n",
    "num_nodes = 128\n",
    "lr = 1e-4"
   ]
  },
  {
   "cell_type": "code",
   "execution_count": 6,
   "metadata": {},
   "outputs": [],
   "source": [
    "# Select a partial differential equation\n",
    "eq = 'ac' # or 'bg'  "
   ]
  },
  {
   "cell_type": "code",
   "execution_count": 7,
   "metadata": {},
   "outputs": [
    {
     "name": "stdout",
     "output_type": "stream",
     "text": [
      "Operation mode:  cuda:0\n"
     ]
    }
   ],
   "source": [
    "device = torch.device(\"cuda:0\")\n",
    "print(\"Operation mode: \", device)"
   ]
  },
  {
   "cell_type": "code",
   "execution_count": 8,
   "metadata": {},
   "outputs": [],
   "source": [
    "if eq == 'bg':\n",
    "    t_data, x_data, u_data, t_data_f, x_data_f = bg_generator(num_t, num_x)  \n",
    "elif eq == 'ac':\n",
    "    t_data, x_data, u_data, t_data_f, x_data_f = ac_generator(num_t, num_x)\n",
    "else:\n",
    "    print(\"There exists no equation.\")\n",
    "    exit(0)"
   ]
  },
  {
   "cell_type": "code",
   "execution_count": 9,
   "metadata": {},
   "outputs": [],
   "source": [
    "variables = torch.FloatTensor(np.concatenate((t_data, x_data), 1)).to(device)\n",
    "variables_f = torch.FloatTensor(np.concatenate((t_data_f, x_data_f), 1)).to(device)\n",
    "variables_f.requires_grad = True\n",
    "u_data = torch.FloatTensor(u_data).to(device)"
   ]
  },
  {
   "cell_type": "code",
   "execution_count": 10,
   "metadata": {},
   "outputs": [],
   "source": [
    "layer_list = [2] + num_hidden * [num_nodes] + [1]\n",
    "pinn = pinn(layer_list).to(device)"
   ]
  },
  {
   "cell_type": "code",
   "execution_count": 11,
   "metadata": {},
   "outputs": [],
   "source": [
    "optimizer = torch.optim.Adam(pinn.parameters(), betas=(0.999,0.999), lr=lr)\n",
    "loss_graph = []\n",
    "ls = 1e-3\n",
    "bep = 0"
   ]
  },
  {
   "cell_type": "code",
   "execution_count": 12,
   "metadata": {},
   "outputs": [
    {
     "name": "stderr",
     "output_type": "stream",
     "text": [
      "  0%|          | 9/50000 [00:00<46:35, 17.88it/s]  "
     ]
    },
    {
     "name": "stdout",
     "output_type": "stream",
     "text": [
      "Train loss: 0.5726426839828491\n"
     ]
    },
    {
     "name": "stderr",
     "output_type": "stream",
     "text": [
      "  2%|▏         | 1009/50000 [00:13<10:21, 78.82it/s]"
     ]
    },
    {
     "name": "stdout",
     "output_type": "stream",
     "text": [
      "Train loss: 0.36295953392982483\n"
     ]
    },
    {
     "name": "stderr",
     "output_type": "stream",
     "text": [
      "  4%|▍         | 2009/50000 [00:25<10:05, 79.28it/s]"
     ]
    },
    {
     "name": "stdout",
     "output_type": "stream",
     "text": [
      "Train loss: 0.35892027616500854\n"
     ]
    },
    {
     "name": "stderr",
     "output_type": "stream",
     "text": [
      "  6%|▌         | 3009/50000 [00:38<09:56, 78.80it/s]"
     ]
    },
    {
     "name": "stdout",
     "output_type": "stream",
     "text": [
      "Train loss: 0.3556709885597229\n"
     ]
    },
    {
     "name": "stderr",
     "output_type": "stream",
     "text": [
      "  8%|▊         | 4009/50000 [00:51<09:42, 79.01it/s]"
     ]
    },
    {
     "name": "stdout",
     "output_type": "stream",
     "text": [
      "Train loss: 0.3540807366371155\n"
     ]
    },
    {
     "name": "stderr",
     "output_type": "stream",
     "text": [
      " 10%|█         | 5009/50000 [01:03<09:33, 78.51it/s]"
     ]
    },
    {
     "name": "stdout",
     "output_type": "stream",
     "text": [
      "Train loss: 0.34934934973716736\n"
     ]
    },
    {
     "name": "stderr",
     "output_type": "stream",
     "text": [
      " 12%|█▏        | 6009/50000 [01:16<09:16, 79.06it/s]"
     ]
    },
    {
     "name": "stdout",
     "output_type": "stream",
     "text": [
      "Train loss: 0.2863384783267975\n"
     ]
    },
    {
     "name": "stderr",
     "output_type": "stream",
     "text": [
      " 14%|█▍        | 7009/50000 [01:29<09:05, 78.80it/s]"
     ]
    },
    {
     "name": "stdout",
     "output_type": "stream",
     "text": [
      "Train loss: 0.2683485746383667\n"
     ]
    },
    {
     "name": "stderr",
     "output_type": "stream",
     "text": [
      " 16%|█▌        | 8009/50000 [01:41<08:51, 78.95it/s]"
     ]
    },
    {
     "name": "stdout",
     "output_type": "stream",
     "text": [
      "Train loss: 0.25697246193885803\n"
     ]
    },
    {
     "name": "stderr",
     "output_type": "stream",
     "text": [
      " 18%|█▊        | 9009/50000 [01:54<08:40, 78.72it/s]"
     ]
    },
    {
     "name": "stdout",
     "output_type": "stream",
     "text": [
      "Train loss: 0.2512259781360626\n"
     ]
    },
    {
     "name": "stderr",
     "output_type": "stream",
     "text": [
      " 20%|██        | 10009/50000 [02:07<08:27, 78.74it/s]"
     ]
    },
    {
     "name": "stdout",
     "output_type": "stream",
     "text": [
      "Train loss: 0.21323582530021667\n"
     ]
    },
    {
     "name": "stderr",
     "output_type": "stream",
     "text": [
      " 22%|██▏       | 11009/50000 [02:20<08:17, 78.42it/s]"
     ]
    },
    {
     "name": "stdout",
     "output_type": "stream",
     "text": [
      "Train loss: 0.06509672105312347\n"
     ]
    },
    {
     "name": "stderr",
     "output_type": "stream",
     "text": [
      " 24%|██▍       | 12009/50000 [02:32<08:08, 77.71it/s]"
     ]
    },
    {
     "name": "stdout",
     "output_type": "stream",
     "text": [
      "Train loss: 0.03727284073829651\n"
     ]
    },
    {
     "name": "stderr",
     "output_type": "stream",
     "text": [
      " 26%|██▌       | 13009/50000 [02:45<07:51, 78.39it/s]"
     ]
    },
    {
     "name": "stdout",
     "output_type": "stream",
     "text": [
      "Train loss: 0.021301060914993286\n"
     ]
    },
    {
     "name": "stderr",
     "output_type": "stream",
     "text": [
      " 28%|██▊       | 14009/50000 [02:58<07:38, 78.43it/s]"
     ]
    },
    {
     "name": "stdout",
     "output_type": "stream",
     "text": [
      "Train loss: 0.008190851658582687\n"
     ]
    },
    {
     "name": "stderr",
     "output_type": "stream",
     "text": [
      " 30%|███       | 15009/50000 [03:11<07:23, 78.93it/s]"
     ]
    },
    {
     "name": "stdout",
     "output_type": "stream",
     "text": [
      "Train loss: 0.004204107448458672\n"
     ]
    },
    {
     "name": "stderr",
     "output_type": "stream",
     "text": [
      " 32%|███▏      | 16009/50000 [03:23<07:13, 78.45it/s]"
     ]
    },
    {
     "name": "stdout",
     "output_type": "stream",
     "text": [
      "Train loss: 0.0023221683222800493\n"
     ]
    },
    {
     "name": "stderr",
     "output_type": "stream",
     "text": [
      " 34%|███▍      | 17009/50000 [03:36<06:58, 78.76it/s]"
     ]
    },
    {
     "name": "stdout",
     "output_type": "stream",
     "text": [
      "Train loss: 0.001779606333002448\n"
     ]
    },
    {
     "name": "stderr",
     "output_type": "stream",
     "text": [
      " 36%|███▌      | 18009/50000 [03:49<06:48, 78.37it/s]"
     ]
    },
    {
     "name": "stdout",
     "output_type": "stream",
     "text": [
      "Train loss: 0.0014670274686068296\n"
     ]
    },
    {
     "name": "stderr",
     "output_type": "stream",
     "text": [
      " 38%|███▊      | 19009/50000 [04:02<06:34, 78.60it/s]"
     ]
    },
    {
     "name": "stdout",
     "output_type": "stream",
     "text": [
      "Train loss: 0.0012991968542337418\n"
     ]
    },
    {
     "name": "stderr",
     "output_type": "stream",
     "text": [
      " 40%|████      | 20009/50000 [04:14<06:22, 78.45it/s]"
     ]
    },
    {
     "name": "stdout",
     "output_type": "stream",
     "text": [
      "Train loss: 0.001170347211882472\n"
     ]
    },
    {
     "name": "stderr",
     "output_type": "stream",
     "text": [
      " 42%|████▏     | 21009/50000 [04:27<06:10, 78.23it/s]"
     ]
    },
    {
     "name": "stdout",
     "output_type": "stream",
     "text": [
      "Train loss: 0.0010451656999066472\n"
     ]
    },
    {
     "name": "stderr",
     "output_type": "stream",
     "text": [
      " 44%|████▍     | 22010/50000 [04:43<08:33, 54.46it/s]"
     ]
    },
    {
     "name": "stdout",
     "output_type": "stream",
     "text": [
      "Train loss: 0.0009268144494853914\n"
     ]
    },
    {
     "name": "stderr",
     "output_type": "stream",
     "text": [
      " 46%|████▌     | 23009/50000 [05:01<08:08, 55.25it/s]"
     ]
    },
    {
     "name": "stdout",
     "output_type": "stream",
     "text": [
      "Train loss: 0.0008364645182155073\n"
     ]
    },
    {
     "name": "stderr",
     "output_type": "stream",
     "text": [
      " 48%|████▊     | 24010/50000 [05:19<07:45, 55.79it/s]"
     ]
    },
    {
     "name": "stdout",
     "output_type": "stream",
     "text": [
      "Train loss: 0.0007627392187714577\n"
     ]
    },
    {
     "name": "stderr",
     "output_type": "stream",
     "text": [
      " 50%|█████     | 25012/50000 [05:37<07:29, 55.62it/s]"
     ]
    },
    {
     "name": "stdout",
     "output_type": "stream",
     "text": [
      "Train loss: 0.0006978685851208866\n"
     ]
    },
    {
     "name": "stderr",
     "output_type": "stream",
     "text": [
      " 52%|█████▏    | 26008/50000 [05:55<07:04, 56.47it/s]"
     ]
    },
    {
     "name": "stdout",
     "output_type": "stream",
     "text": [
      "Train loss: 0.0006143604405224323\n"
     ]
    },
    {
     "name": "stderr",
     "output_type": "stream",
     "text": [
      " 54%|█████▍    | 27010/50000 [06:13<06:55, 55.33it/s]"
     ]
    },
    {
     "name": "stdout",
     "output_type": "stream",
     "text": [
      "Train loss: 0.0005367001285776496\n"
     ]
    },
    {
     "name": "stderr",
     "output_type": "stream",
     "text": [
      " 56%|█████▌    | 28012/50000 [06:31<06:36, 55.41it/s]"
     ]
    },
    {
     "name": "stdout",
     "output_type": "stream",
     "text": [
      "Train loss: 0.0004822414193768054\n"
     ]
    },
    {
     "name": "stderr",
     "output_type": "stream",
     "text": [
      " 58%|█████▊    | 29008/50000 [06:48<06:19, 55.29it/s]"
     ]
    },
    {
     "name": "stdout",
     "output_type": "stream",
     "text": [
      "Train loss: 0.00045835564378648996\n"
     ]
    },
    {
     "name": "stderr",
     "output_type": "stream",
     "text": [
      " 60%|██████    | 30009/50000 [07:06<05:28, 60.77it/s]"
     ]
    },
    {
     "name": "stdout",
     "output_type": "stream",
     "text": [
      "Train loss: 0.0004474288725759834\n"
     ]
    },
    {
     "name": "stderr",
     "output_type": "stream",
     "text": [
      " 62%|██████▏   | 31012/50000 [07:24<05:20, 59.17it/s]"
     ]
    },
    {
     "name": "stdout",
     "output_type": "stream",
     "text": [
      "Train loss: 0.00044071150477975607\n"
     ]
    },
    {
     "name": "stderr",
     "output_type": "stream",
     "text": [
      " 64%|██████▍   | 32011/50000 [07:39<04:41, 63.99it/s]"
     ]
    },
    {
     "name": "stdout",
     "output_type": "stream",
     "text": [
      "Train loss: 0.00043701365939341486\n"
     ]
    },
    {
     "name": "stderr",
     "output_type": "stream",
     "text": [
      " 66%|██████▌   | 33008/50000 [07:55<04:14, 66.84it/s]"
     ]
    },
    {
     "name": "stdout",
     "output_type": "stream",
     "text": [
      "Train loss: 0.00043483436456881464\n"
     ]
    },
    {
     "name": "stderr",
     "output_type": "stream",
     "text": [
      " 68%|██████▊   | 34008/50000 [08:10<03:46, 70.75it/s]"
     ]
    },
    {
     "name": "stdout",
     "output_type": "stream",
     "text": [
      "Train loss: 0.00043338193790987134\n"
     ]
    },
    {
     "name": "stderr",
     "output_type": "stream",
     "text": [
      " 70%|███████   | 35014/50000 [08:25<03:44, 66.65it/s]"
     ]
    },
    {
     "name": "stdout",
     "output_type": "stream",
     "text": [
      "Train loss: 0.0004320555890444666\n"
     ]
    },
    {
     "name": "stderr",
     "output_type": "stream",
     "text": [
      " 72%|███████▏  | 36011/50000 [08:40<03:29, 66.90it/s]"
     ]
    },
    {
     "name": "stdout",
     "output_type": "stream",
     "text": [
      "Train loss: 0.000430453714216128\n"
     ]
    },
    {
     "name": "stderr",
     "output_type": "stream",
     "text": [
      " 74%|███████▍  | 37011/50000 [08:56<03:45, 57.61it/s]"
     ]
    },
    {
     "name": "stdout",
     "output_type": "stream",
     "text": [
      "Train loss: 0.00042769298306666315\n"
     ]
    },
    {
     "name": "stderr",
     "output_type": "stream",
     "text": [
      " 76%|███████▌  | 38007/50000 [09:14<03:33, 56.30it/s]"
     ]
    },
    {
     "name": "stdout",
     "output_type": "stream",
     "text": [
      "Train loss: 0.0004208923492114991\n"
     ]
    },
    {
     "name": "stderr",
     "output_type": "stream",
     "text": [
      " 78%|███████▊  | 39009/50000 [09:32<03:18, 55.24it/s]"
     ]
    },
    {
     "name": "stdout",
     "output_type": "stream",
     "text": [
      "Train loss: 0.0003974101855419576\n"
     ]
    },
    {
     "name": "stderr",
     "output_type": "stream",
     "text": [
      " 80%|████████  | 40011/50000 [09:50<02:59, 55.78it/s]"
     ]
    },
    {
     "name": "stdout",
     "output_type": "stream",
     "text": [
      "Train loss: 0.00034775983658619225\n"
     ]
    },
    {
     "name": "stderr",
     "output_type": "stream",
     "text": [
      " 82%|████████▏ | 41007/50000 [10:08<02:41, 55.84it/s]"
     ]
    },
    {
     "name": "stdout",
     "output_type": "stream",
     "text": [
      "Train loss: 0.00027665332891047\n"
     ]
    },
    {
     "name": "stderr",
     "output_type": "stream",
     "text": [
      " 84%|████████▍ | 42009/50000 [10:26<02:24, 55.29it/s]"
     ]
    },
    {
     "name": "stdout",
     "output_type": "stream",
     "text": [
      "Train loss: 0.00015890138456597924\n"
     ]
    },
    {
     "name": "stderr",
     "output_type": "stream",
     "text": [
      " 86%|████████▌ | 43011/50000 [10:44<02:03, 56.62it/s]"
     ]
    },
    {
     "name": "stdout",
     "output_type": "stream",
     "text": [
      "Train loss: 8.689938113093376e-05\n"
     ]
    },
    {
     "name": "stderr",
     "output_type": "stream",
     "text": [
      " 88%|████████▊ | 44007/50000 [11:02<01:47, 55.53it/s]"
     ]
    },
    {
     "name": "stdout",
     "output_type": "stream",
     "text": [
      "Train loss: 5.440345557872206e-05\n"
     ]
    },
    {
     "name": "stderr",
     "output_type": "stream",
     "text": [
      " 90%|█████████ | 45009/50000 [11:20<01:30, 55.26it/s]"
     ]
    },
    {
     "name": "stdout",
     "output_type": "stream",
     "text": [
      "Train loss: 3.8463869714178145e-05\n"
     ]
    },
    {
     "name": "stderr",
     "output_type": "stream",
     "text": [
      " 92%|█████████▏| 46011/50000 [11:38<01:10, 56.61it/s]"
     ]
    },
    {
     "name": "stdout",
     "output_type": "stream",
     "text": [
      "Train loss: 2.7710797439794987e-05\n"
     ]
    },
    {
     "name": "stderr",
     "output_type": "stream",
     "text": [
      " 94%|█████████▍| 47007/50000 [11:56<00:53, 55.64it/s]"
     ]
    },
    {
     "name": "stdout",
     "output_type": "stream",
     "text": [
      "Train loss: 1.9195989807485603e-05\n"
     ]
    },
    {
     "name": "stderr",
     "output_type": "stream",
     "text": [
      " 96%|█████████▌| 48009/50000 [12:14<00:35, 56.32it/s]"
     ]
    },
    {
     "name": "stdout",
     "output_type": "stream",
     "text": [
      "Train loss: 1.2106132999178953e-05\n"
     ]
    },
    {
     "name": "stderr",
     "output_type": "stream",
     "text": [
      " 98%|█████████▊| 49008/50000 [12:32<00:16, 58.88it/s]"
     ]
    },
    {
     "name": "stdout",
     "output_type": "stream",
     "text": [
      "Train loss: 7.699482921452727e-06\n"
     ]
    },
    {
     "name": "stderr",
     "output_type": "stream",
     "text": [
      "100%|██████████| 50000/50000 [12:48<00:00, 65.08it/s]\n"
     ]
    }
   ],
   "source": [
    "for ep in tqdm(range(num_epochs)):\n",
    "        \n",
    "        optimizer.zero_grad()\n",
    "        \n",
    "        # Full batch\n",
    "        u_hat = pinn(variables)\n",
    "        u_hat_f = pinn(variables_f)\n",
    "        \n",
    "        if eq == 'bg':\n",
    "            loss_f = torch.mean(burgers_equation(u_hat_f, variables_f) ** 2)\n",
    "        elif eq == 'ac':\n",
    "            loss_f = torch.mean(ac_equation(u_hat_f, variables_f) ** 2)\n",
    "            \n",
    "        loss_u = torch.mean((u_hat - u_data) ** 2)\n",
    "        loss = loss_f + loss_u\n",
    "        loss.backward() \n",
    "        optimizer.step()\n",
    "        \n",
    "        l = loss.item()\n",
    "        loss_graph.append(l)\n",
    "        if l < ls:\n",
    "            ls = l\n",
    "            bep = ep\n",
    "            torch.save(pinn.state_dict(), './'+eq+'_1d.pth')\n",
    "            \n",
    "        if ep % 1000 == 0:\n",
    "            print(f\"Train loss: {l}\") "
   ]
  },
  {
   "cell_type": "code",
   "execution_count": 13,
   "metadata": {},
   "outputs": [
    {
     "name": "stdout",
     "output_type": "stream",
     "text": [
      "[Best][Epoch: 49999] Train loss: 5.031081855122466e-06\n"
     ]
    },
    {
     "data": {
      "image/png": "[encoded data removed]",
      "text/plain": [
       "<Figure size 1000x500 with 1 Axes>"
      ]
     },
     "metadata": {},
     "output_type": "display_data"
    }
   ],
   "source": [
    "print(f\"[Best][Epoch: {bep}] Train loss: {ls}\") \n",
    "plt.figure(figsize=(10, 5))\n",
    "plt.plot(loss_graph)\n",
    "plt.show()"
   ]
  },
  {
   "cell_type": "code",
   "execution_count": 14,
   "metadata": {},
   "outputs": [
    {
     "data": {
      "text/plain": [
       "<All keys matched successfully>"
      ]
     },
     "execution_count": 14,
     "metadata": {},
     "output_type": "execute_result"
    }
   ],
   "source": [
    "pinn.load_state_dict(torch.load('./'+eq+'_1d.pth'))"
   ]
  },
  {
   "cell_type": "code",
   "execution_count": 25,
   "metadata": {},
   "outputs": [
    {
     "name": "stdout",
     "output_type": "stream",
     "text": [
      "tensor([[ 0.0000, -1.0000],\n",
      "        [ 0.0050, -1.0000],\n",
      "        [ 0.0100, -1.0000],\n",
      "        ...,\n",
      "        [ 0.9900,  0.9961],\n",
      "        [ 0.9950,  0.9961],\n",
      "        [ 1.0000,  0.9961]], device='cuda:0')\n",
      "torch.Size([102912, 1])\n",
      "(512, 201)\n",
      "{'__header__': b'MATLAB 5.0 MAT-file, Platform: GLNXA64, Created on: Tue Nov 21 21:17:46 2017', '__version__': '1.0', '__globals__': [], 'tt': array([[0.   , 0.005, 0.01 , 0.015, 0.02 , 0.025, 0.03 , 0.035, 0.04 ,\n",
      "        0.045, 0.05 , 0.055, 0.06 , 0.065, 0.07 , 0.075, 0.08 , 0.085,\n",
      "        0.09 , 0.095, 0.1  , 0.105, 0.11 , 0.115, 0.12 , 0.125, 0.13 ,\n",
      "        0.135, 0.14 , 0.145, 0.15 , 0.155, 0.16 , 0.165, 0.17 , 0.175,\n",
      "        0.18 , 0.185, 0.19 , 0.195, 0.2  , 0.205, 0.21 , 0.215, 0.22 ,\n",
      "        0.225, 0.23 , 0.235, 0.24 , 0.245, 0.25 , 0.255, 0.26 , 0.265,\n",
      "        0.27 , 0.275, 0.28 , 0.285, 0.29 , 0.295, 0.3  , 0.305, 0.31 ,\n",
      "        0.315, 0.32 , 0.325, 0.33 , 0.335, 0.34 , 0.345, 0.35 , 0.355,\n",
      "        0.36 , 0.365, 0.37 , 0.375, 0.38 , 0.385, 0.39 , 0.395, 0.4  ,\n",
      "        0.405, 0.41 , 0.415, 0.42 , 0.425, 0.43 , 0.435, 0.44 , 0.445,\n",
      "        0.45 , 0.455, 0.46 , 0.465, 0.47 , 0.475, 0.48 , 0.485, 0.49 ,\n",
      "        0.495, 0.5  , 0.505, 0.51 , 0.515, 0.52 , 0.525, 0.53 , 0.535,\n",
      "        0.54 , 0.545, 0.55 , 0.555, 0.56 , 0.565, 0.57 , 0.575, 0.58 ,\n",
      "        0.585, 0.59 , 0.595, 0.6  , 0.605, 0.61 , 0.615, 0.62 , 0.625,\n",
      "        0.63 , 0.635, 0.64 , 0.645, 0.65 , 0.655, 0.66 , 0.665, 0.67 ,\n",
      "        0.675, 0.68 , 0.685, 0.69 , 0.695, 0.7  , 0.705, 0.71 , 0.715,\n",
      "        0.72 , 0.725, 0.73 , 0.735, 0.74 , 0.745, 0.75 , 0.755, 0.76 ,\n",
      "        0.765, 0.77 , 0.775, 0.78 , 0.785, 0.79 , 0.795, 0.8  , 0.805,\n",
      "        0.81 , 0.815, 0.82 , 0.825, 0.83 , 0.835, 0.84 , 0.845, 0.85 ,\n",
      "        0.855, 0.86 , 0.865, 0.87 , 0.875, 0.88 , 0.885, 0.89 , 0.895,\n",
      "        0.9  , 0.905, 0.91 , 0.915, 0.92 , 0.925, 0.93 , 0.935, 0.94 ,\n",
      "        0.945, 0.95 , 0.955, 0.96 , 0.965, 0.97 , 0.975, 0.98 , 0.985,\n",
      "        0.99 , 0.995, 1.   ]]), 'uu': array([[-1.        , -0.9993636 , -0.99885975, ..., -0.99999878,\n",
      "        -0.99999884, -0.99999889],\n",
      "       [-0.99212805, -0.99260045, -0.99299802, ..., -0.99999873,\n",
      "        -0.99999879, -0.99999884],\n",
      "       [-0.98413954, -0.98485708, -0.98556059, ..., -0.99999858,\n",
      "        -0.99999864, -0.99999871],\n",
      "       ...,\n",
      "       [-0.976038  , -0.97718071, -0.97826142, ..., -0.99999833,\n",
      "        -0.99999841, -0.99999849],\n",
      "       [-0.98413954, -0.98485708, -0.98556059, ..., -0.99999858,\n",
      "        -0.99999864, -0.99999871],\n",
      "       [-0.99212805, -0.99260045, -0.99299802, ..., -0.99999873,\n",
      "        -0.99999879, -0.99999884]]), 'x': array([[-1.        , -0.99609375, -0.9921875 , -0.98828125, -0.984375  ,\n",
      "        -0.98046875, -0.9765625 , -0.97265625, -0.96875   , -0.96484375,\n",
      "        -0.9609375 , -0.95703125, -0.953125  , -0.94921875, -0.9453125 ,\n",
      "        -0.94140625, -0.9375    , -0.93359375, -0.9296875 , -0.92578125,\n",
      "        -0.921875  , -0.91796875, -0.9140625 , -0.91015625, -0.90625   ,\n",
      "        -0.90234375, -0.8984375 , -0.89453125, -0.890625  , -0.88671875,\n",
      "        -0.8828125 , -0.87890625, -0.875     , -0.87109375, -0.8671875 ,\n",
      "        -0.86328125, -0.859375  , -0.85546875, -0.8515625 , -0.84765625,\n",
      "        -0.84375   , -0.83984375, -0.8359375 , -0.83203125, -0.828125  ,\n",
      "        -0.82421875, -0.8203125 , -0.81640625, -0.8125    , -0.80859375,\n",
      "        -0.8046875 , -0.80078125, -0.796875  , -0.79296875, -0.7890625 ,\n",
      "        -0.78515625, -0.78125   , -0.77734375, -0.7734375 , -0.76953125,\n",
      "        -0.765625  , -0.76171875, -0.7578125 , -0.75390625, -0.75      ,\n",
      "        -0.74609375, -0.7421875 , -0.73828125, -0.734375  , -0.73046875,\n",
      "        -0.7265625 , -0.72265625, -0.71875   , -0.71484375, -0.7109375 ,\n",
      "        -0.70703125, -0.703125  , -0.69921875, -0.6953125 , -0.69140625,\n",
      "        -0.6875    , -0.68359375, -0.6796875 , -0.67578125, -0.671875  ,\n",
      "        -0.66796875, -0.6640625 , -0.66015625, -0.65625   , -0.65234375,\n",
      "        -0.6484375 , -0.64453125, -0.640625  , -0.63671875, -0.6328125 ,\n",
      "        -0.62890625, -0.625     , -0.62109375, -0.6171875 , -0.61328125,\n",
      "        -0.609375  , -0.60546875, -0.6015625 , -0.59765625, -0.59375   ,\n",
      "        -0.58984375, -0.5859375 , -0.58203125, -0.578125  , -0.57421875,\n",
      "        -0.5703125 , -0.56640625, -0.5625    , -0.55859375, -0.5546875 ,\n",
      "        -0.55078125, -0.546875  , -0.54296875, -0.5390625 , -0.53515625,\n",
      "        -0.53125   , -0.52734375, -0.5234375 , -0.51953125, -0.515625  ,\n",
      "        -0.51171875, -0.5078125 , -0.50390625, -0.5       , -0.49609375,\n",
      "        -0.4921875 , -0.48828125, -0.484375  , -0.48046875, -0.4765625 ,\n",
      "        -0.47265625, -0.46875   , -0.46484375, -0.4609375 , -0.45703125,\n",
      "        -0.453125  , -0.44921875, -0.4453125 , -0.44140625, -0.4375    ,\n",
      "        -0.43359375, -0.4296875 , -0.42578125, -0.421875  , -0.41796875,\n",
      "        -0.4140625 , -0.41015625, -0.40625   , -0.40234375, -0.3984375 ,\n",
      "        -0.39453125, -0.390625  , -0.38671875, -0.3828125 , -0.37890625,\n",
      "        -0.375     , -0.37109375, -0.3671875 , -0.36328125, -0.359375  ,\n",
      "        -0.35546875, -0.3515625 , -0.34765625, -0.34375   , -0.33984375,\n",
      "        -0.3359375 , -0.33203125, -0.328125  , -0.32421875, -0.3203125 ,\n",
      "        -0.31640625, -0.3125    , -0.30859375, -0.3046875 , -0.30078125,\n",
      "        -0.296875  , -0.29296875, -0.2890625 , -0.28515625, -0.28125   ,\n",
      "        -0.27734375, -0.2734375 , -0.26953125, -0.265625  , -0.26171875,\n",
      "        -0.2578125 , -0.25390625, -0.25      , -0.24609375, -0.2421875 ,\n",
      "        -0.23828125, -0.234375  , -0.23046875, -0.2265625 , -0.22265625,\n",
      "        -0.21875   , -0.21484375, -0.2109375 , -0.20703125, -0.203125  ,\n",
      "        -0.19921875, -0.1953125 , -0.19140625, -0.1875    , -0.18359375,\n",
      "        -0.1796875 , -0.17578125, -0.171875  , -0.16796875, -0.1640625 ,\n",
      "        -0.16015625, -0.15625   , -0.15234375, -0.1484375 , -0.14453125,\n",
      "        -0.140625  , -0.13671875, -0.1328125 , -0.12890625, -0.125     ,\n",
      "        -0.12109375, -0.1171875 , -0.11328125, -0.109375  , -0.10546875,\n",
      "        -0.1015625 , -0.09765625, -0.09375   , -0.08984375, -0.0859375 ,\n",
      "        -0.08203125, -0.078125  , -0.07421875, -0.0703125 , -0.06640625,\n",
      "        -0.0625    , -0.05859375, -0.0546875 , -0.05078125, -0.046875  ,\n",
      "        -0.04296875, -0.0390625 , -0.03515625, -0.03125   , -0.02734375,\n",
      "        -0.0234375 , -0.01953125, -0.015625  , -0.01171875, -0.0078125 ,\n",
      "        -0.00390625,  0.        ,  0.00390625,  0.0078125 ,  0.01171875,\n",
      "         0.015625  ,  0.01953125,  0.0234375 ,  0.02734375,  0.03125   ,\n",
      "         0.03515625,  0.0390625 ,  0.04296875,  0.046875  ,  0.05078125,\n",
      "         0.0546875 ,  0.05859375,  0.0625    ,  0.06640625,  0.0703125 ,\n",
      "         0.07421875,  0.078125  ,  0.08203125,  0.0859375 ,  0.08984375,\n",
      "         0.09375   ,  0.09765625,  0.1015625 ,  0.10546875,  0.109375  ,\n",
      "         0.11328125,  0.1171875 ,  0.12109375,  0.125     ,  0.12890625,\n",
      "         0.1328125 ,  0.13671875,  0.140625  ,  0.14453125,  0.1484375 ,\n",
      "         0.15234375,  0.15625   ,  0.16015625,  0.1640625 ,  0.16796875,\n",
      "         0.171875  ,  0.17578125,  0.1796875 ,  0.18359375,  0.1875    ,\n",
      "         0.19140625,  0.1953125 ,  0.19921875,  0.203125  ,  0.20703125,\n",
      "         0.2109375 ,  0.21484375,  0.21875   ,  0.22265625,  0.2265625 ,\n",
      "         0.23046875,  0.234375  ,  0.23828125,  0.2421875 ,  0.24609375,\n",
      "         0.25      ,  0.25390625,  0.2578125 ,  0.26171875,  0.265625  ,\n",
      "         0.26953125,  0.2734375 ,  0.27734375,  0.28125   ,  0.28515625,\n",
      "         0.2890625 ,  0.29296875,  0.296875  ,  0.30078125,  0.3046875 ,\n",
      "         0.30859375,  0.3125    ,  0.31640625,  0.3203125 ,  0.32421875,\n",
      "         0.328125  ,  0.33203125,  0.3359375 ,  0.33984375,  0.34375   ,\n",
      "         0.34765625,  0.3515625 ,  0.35546875,  0.359375  ,  0.36328125,\n",
      "         0.3671875 ,  0.37109375,  0.375     ,  0.37890625,  0.3828125 ,\n",
      "         0.38671875,  0.390625  ,  0.39453125,  0.3984375 ,  0.40234375,\n",
      "         0.40625   ,  0.41015625,  0.4140625 ,  0.41796875,  0.421875  ,\n",
      "         0.42578125,  0.4296875 ,  0.43359375,  0.4375    ,  0.44140625,\n",
      "         0.4453125 ,  0.44921875,  0.453125  ,  0.45703125,  0.4609375 ,\n",
      "         0.46484375,  0.46875   ,  0.47265625,  0.4765625 ,  0.48046875,\n",
      "         0.484375  ,  0.48828125,  0.4921875 ,  0.49609375,  0.5       ,\n",
      "         0.50390625,  0.5078125 ,  0.51171875,  0.515625  ,  0.51953125,\n",
      "         0.5234375 ,  0.52734375,  0.53125   ,  0.53515625,  0.5390625 ,\n",
      "         0.54296875,  0.546875  ,  0.55078125,  0.5546875 ,  0.55859375,\n",
      "         0.5625    ,  0.56640625,  0.5703125 ,  0.57421875,  0.578125  ,\n",
      "         0.58203125,  0.5859375 ,  0.58984375,  0.59375   ,  0.59765625,\n",
      "         0.6015625 ,  0.60546875,  0.609375  ,  0.61328125,  0.6171875 ,\n",
      "         0.62109375,  0.625     ,  0.62890625,  0.6328125 ,  0.63671875,\n",
      "         0.640625  ,  0.64453125,  0.6484375 ,  0.65234375,  0.65625   ,\n",
      "         0.66015625,  0.6640625 ,  0.66796875,  0.671875  ,  0.67578125,\n",
      "         0.6796875 ,  0.68359375,  0.6875    ,  0.69140625,  0.6953125 ,\n",
      "         0.69921875,  0.703125  ,  0.70703125,  0.7109375 ,  0.71484375,\n",
      "         0.71875   ,  0.72265625,  0.7265625 ,  0.73046875,  0.734375  ,\n",
      "         0.73828125,  0.7421875 ,  0.74609375,  0.75      ,  0.75390625,\n",
      "         0.7578125 ,  0.76171875,  0.765625  ,  0.76953125,  0.7734375 ,\n",
      "         0.77734375,  0.78125   ,  0.78515625,  0.7890625 ,  0.79296875,\n",
      "         0.796875  ,  0.80078125,  0.8046875 ,  0.80859375,  0.8125    ,\n",
      "         0.81640625,  0.8203125 ,  0.82421875,  0.828125  ,  0.83203125,\n",
      "         0.8359375 ,  0.83984375,  0.84375   ,  0.84765625,  0.8515625 ,\n",
      "         0.85546875,  0.859375  ,  0.86328125,  0.8671875 ,  0.87109375,\n",
      "         0.875     ,  0.87890625,  0.8828125 ,  0.88671875,  0.890625  ,\n",
      "         0.89453125,  0.8984375 ,  0.90234375,  0.90625   ,  0.91015625,\n",
      "         0.9140625 ,  0.91796875,  0.921875  ,  0.92578125,  0.9296875 ,\n",
      "         0.93359375,  0.9375    ,  0.94140625,  0.9453125 ,  0.94921875,\n",
      "         0.953125  ,  0.95703125,  0.9609375 ,  0.96484375,  0.96875   ,\n",
      "         0.97265625,  0.9765625 ,  0.98046875,  0.984375  ,  0.98828125,\n",
      "         0.9921875 ,  0.99609375]])}\n",
      "L2 Relative Error: 0.080108288412839\n"
     ]
    }
   ],
   "source": [
    "if eq == 'bg':       \n",
    "    t_test, x_test = bg_generator(101, 256, typ='test')\n",
    "    t = np.linspace(0, 1, 101).reshape(-1,1)\n",
    "    x = np.linspace(-1, 1, 256).reshape(-1,1)\n",
    "    T = t.shape[0]\n",
    "    N = x.shape[0]\n",
    "    test_variables = torch.FloatTensor(np.concatenate((t_test, x_test), 1)).to(device)\n",
    "    with torch.no_grad():\n",
    "        u_pred = pinn(test_variables)\n",
    "    print(u_pred.shape)\n",
    "    u_pred = u_pred.cpu().numpy().reshape(N,T)\n",
    "\n",
    "    # reference data\n",
    "    data = scipy.io.loadmat('./burgers_shock.mat')  \n",
    "    Exact = np.real(data['usol'])  \n",
    "    err = u_pred[:,:-1]-Exact\n",
    "    \n",
    "elif eq == 'ac':\n",
    "    t = np.linspace(0, 1, 201).reshape(-1,1) # T x 1\n",
    "    x = np.linspace(-1, 1, 513)[:-1].reshape(-1,1) # N x 1\n",
    "    T = t.shape[0]\n",
    "    N = x.shape[0]\n",
    "    T_star = np.tile(t, (1, N)).T  # N x T\n",
    "    X_star = np.tile(x, (1, T))  # N x T\n",
    "    t_test = T_star.flatten()[:, None]\n",
    "    x_test = X_star.flatten()[:, None]\n",
    "    \n",
    "    test_variables = torch.FloatTensor(np.concatenate((t_test, x_test), 1)).to(device)\n",
    "    print(test_variables)\n",
    "    with torch.no_grad():\n",
    "        u_pred = pinn(test_variables)\n",
    "    print(u_pred.shape)\n",
    "    u_pred = u_pred.cpu().numpy().reshape(N,T)\n",
    "    print(u_pred.shape)\n",
    "\n",
    "    # reference data\n",
    "    data = scipy.io.loadmat('./AC.mat')\n",
    "    print(data)\n",
    "    Exact = np.real(data['uu'])\n",
    "    err = u_pred-Exact\n",
    "\n",
    "err = np.linalg.norm(err,2)/np.linalg.norm(Exact,2)   \n",
    "print(f\"L2 Relative Error: {err}\")"
   ]
  },
  {
   "cell_type": "markdown",
   "metadata": {},
   "source": [
    "6. Results"
   ]
  },
  {
   "cell_type": "code",
   "execution_count": 16,
   "metadata": {},
   "outputs": [
    {
     "data": {
      "image/png": "[encoded data removed]",
      "text/plain": [
       "<Figure size 1000x1000 with 4 Axes>"
      ]
     },
     "metadata": {},
     "output_type": "display_data"
    }
   ],
   "source": [
    "resplot(x, t, t_data, x_data, Exact, u_pred)"
   ]
  },
  {
   "cell_type": "code",
   "execution_count": 17,
   "metadata": {},
   "outputs": [
    {
     "data": {
      "image/png": "[encoded data removed]",
      "text/plain": [
       "<Figure size 1000x500 with 1 Axes>"
      ]
     },
     "metadata": {},
     "output_type": "display_data"
    }
   ],
   "source": [
    "plt.figure(figsize=(10, 5))\n",
    "plt.imshow(u_pred, interpolation='nearest', cmap='jet',\n",
    "            extent=[t.min(), t.max(), x.min(), x.max()],\n",
    "            origin='lower', aspect='auto')\n",
    "plt.clim(-1, 1)\n",
    "plt.ylim(-1,1)\n",
    "plt.xlim(0,1)\n",
    "plt.scatter(t_data, x_data)\n",
    "plt.xlabel('t')\n",
    "plt.ylabel('x')\n",
    "plt.title('u(t,x)')\n",
    "plt.show()"
   ]
  }
 ],
 "metadata": {
  "kernelspec": {
   "display_name": "lion",
   "language": "python",
   "name": "python3"
  },
  "language_info": {
   "codemirror_mode": {
    "name": "ipython",
    "version": 3
   },
   "file_extension": ".py",
   "mimetype": "text/x-python",
   "name": "python",
   "nbconvert_exporter": "python",
   "pygments_lexer": "ipython3",
   "version": "3.10.12"
  }
 },
 "nbformat": 4,
 "nbformat_minor": 2
}
