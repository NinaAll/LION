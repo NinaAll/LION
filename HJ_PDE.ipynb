{
 "cells": [
  {
   "cell_type": "code",
   "execution_count": 1,
   "metadata": {},
   "outputs": [
    {
     "name": "stderr",
     "output_type": "stream",
     "text": [
      "/store/DAMTP/na673/mamba/envs/lion/lib/python3.10/site-packages/tqdm/auto.py:21: TqdmWarning: IProgress not found. Please update jupyter and ipywidgets. See https://ipywidgets.readthedocs.io/en/stable/user_install.html\n",
      "  from .autonotebook import tqdm as notebook_tqdm\n"
     ]
    }
   ],
   "source": [
    "import argparse\n",
    "import torch\n",
    "import torch.nn as nn\n",
    "import utils\n",
    "import numpy as np\n",
    "from tqdm import tqdm\n",
    "import scipy.io\n",
    "import matplotlib.pyplot as plt"
   ]
  },
  {
   "cell_type": "code",
   "execution_count": 2,
   "metadata": {},
   "outputs": [],
   "source": [
    "def fwd_gradients(obj, x):\n",
    "    dummy = torch.ones_like(obj)\n",
    "    derivative = torch.autograd.grad(obj, x, dummy, create_graph= True)[0]\n",
    "    return derivative\n",
    "\n",
    "def hamilton_jacobi_equation(u, tx):\n",
    "    u_tx = fwd_gradients(u, tx)\n",
    "    u_t = u_tx[:, 0:1]\n",
    "    u_x = u_tx[:, 1:2]\n",
    "    u_xx = fwd_gradients(u_x, tx)[:, 1:2]\n",
    "    nu = 0#10000\n",
    "    e = u_t + 1/2*(u_x)**2-nu*u_xx\n",
    "    return e\n",
    "\n",
    "def resplot(x, t, t_data, x_data, Exact, u_pred):\n",
    "    plt.figure(figsize=(10, 10))\n",
    "    plt.subplot(2, 2, 1)\n",
    "    plt.plot(x, Exact[:,0],'-')\n",
    "    plt.plot(x, u_pred[:,0],'--')\n",
    "    plt.legend(['Reference', 'Prediction'])\n",
    "    plt.title(\"Initial condition ($t=0$)\")\n",
    "    \n",
    "    plt.subplot(2, 2, 2)\n",
    "    t_step = int(0.25*len(t))\n",
    "    plt.plot(x, Exact[:,t_step],'-')\n",
    "    plt.plot(x, u_pred[:,t_step],'--')\n",
    "    plt.legend(['Reference', 'Prediction'])\n",
    "    plt.title(\"$t=0.25$\")\n",
    "    \n",
    "    plt.subplot(2, 2, 3)\n",
    "    t_step = int(0.5*len(t))\n",
    "    plt.plot(x, Exact[:,t_step],'-')\n",
    "    plt.plot(x, u_pred[:,t_step],'--')\n",
    "    plt.legend(['Reference', 'Prediction'])\n",
    "    plt.title(\"$t=0.5$\")\n",
    "    \n",
    "    plt.subplot(2, 2, 4)\n",
    "    t_step = int(0.99*len(t))\n",
    "    plt.plot(x, Exact[:,t_step],'-')\n",
    "    plt.plot(x, u_pred[:,t_step],'--')\n",
    "    plt.legend(['Reference', 'Prediction'])\n",
    "    plt.title(\"$t=0.99$\")\n",
    "    plt.show()\n",
    "    plt.close()"
   ]
  },
  {
   "cell_type": "code",
   "execution_count": 3,
   "metadata": {},
   "outputs": [],
   "source": [
    "class LinearBlock(nn.Module):\n",
    "\n",
    "    def __init__(self, in_nodes, out_nodes):\n",
    "        super(LinearBlock, self).__init__()\n",
    "        self.layer = nn.utils.weight_norm(nn.Linear(in_nodes, out_nodes), dim = 0)\n",
    "\n",
    "    def forward(self, x):\n",
    "        x = self.layer(x)\n",
    "        x = torch.tanh(x) \n",
    "        return x\n",
    "\n",
    "class PINN(nn.Module):\n",
    "\n",
    "    def __init__(self, layer_list):\n",
    "        super(PINN, self).__init__()\n",
    "        device = torch.device(\"cuda:1\")# if torch.cuda.is_available() else \"cpu\")\n",
    "        self.input_layer = nn.utils.weight_norm(nn.Linear(layer_list[0], layer_list[1]), dim = 0)\n",
    "        self.hidden_layers = self._make_layer(layer_list[1:-1])\n",
    "        self.output_layer = nn.Linear(layer_list[-2], layer_list[-1])\n",
    "        \n",
    "    def _make_layer(self, layer_list):\n",
    "        layers = []\n",
    "        for i in range(len(layer_list) - 1):\n",
    "            block = LinearBlock(layer_list[i], layer_list[i + 1])\n",
    "            layers.append(block)\n",
    "        return nn.Sequential(*layers)\n",
    "\n",
    "    def forward(self, x):\n",
    "        t_0, x_0 = x[:,0:1], x[:,1:2]\n",
    "        x = self.input_layer(x)\n",
    "        x = torch.tanh(x) \n",
    "        x = self.hidden_layers(x)\n",
    "        x = self.output_layer(x)\n",
    "        #print(x.shape)\n",
    "        #x = torch.absolute(x_0)+torch.tanh(t_0)*x\n",
    "        x = (1-torch.tanh(t_0)) * torch.absolute(x_0) + torch.tanh(t_0)*x \n",
    "        #x = (1-torch.tanh(t_0)) * (x_0)**2 + torch.tanh(t_0)*x \n",
    "        #x = torch.tanh(t_0)*x\n",
    "        #return -x+torch.absolute(x_0)\n",
    "        return x\n",
    "\n",
    "def weights_init(m):\n",
    "    if isinstance(m, nn.Linear):\n",
    "        torch.nn.init.xavier_normal_(m.weight)\n",
    "\n",
    "def pinn(layer_list):\n",
    "    model = PINN(layer_list)\n",
    "    model.apply(weights_init)\n",
    "    return model"
   ]
  },
  {
   "cell_type": "code",
   "execution_count": 4,
   "metadata": {},
   "outputs": [],
   "source": [
    "num_t = 256\n",
    "num_x = 256\n",
    "# num_t = 128\n",
    "# num_x = 128\n",
    "num_epochs = 50000\n",
    "num_hidden = 4\n",
    "num_nodes = 128\n",
    "lr = 1e-2"
   ]
  },
  {
   "cell_type": "code",
   "execution_count": 5,
   "metadata": {},
   "outputs": [
    {
     "name": "stdout",
     "output_type": "stream",
     "text": [
      "Operation mode:  cuda:3\n"
     ]
    }
   ],
   "source": [
    "device = torch.device(\"cuda:3\")\n",
    "print(\"Operation mode: \", device)"
   ]
  },
  {
   "cell_type": "code",
   "execution_count": 6,
   "metadata": {},
   "outputs": [],
   "source": [
    "def lone_generator(num_t, num_x, typ='train'):\n",
    "    N_f = num_t*num_x\n",
    "    t = np.linspace(0, 1, num_t).reshape(-1,1) # T x 1\n",
    "    x = np.linspace(-1, 1, num_x).reshape(-1,1) # N x 1\n",
    "    T = t.shape[0]\n",
    "    N = x.shape[0]\n",
    "    T_star = np.tile(t, (1, N)).T  # N x T\n",
    "    X_star = np.tile(x, (1, T))  # N x T\n",
    "    \n",
    "    # Initial condition and boundary condition\n",
    "    u = np.zeros((N, T))  # N x T\n",
    "    u[:,0:1] = np.absolute(x)\n",
    "    \n",
    "    t_data = T_star.flatten()[:, None]\n",
    "    x_data = X_star.flatten()[:, None]\n",
    "    u_data = u.flatten()[:, None]\n",
    "    \n",
    "    t_data_f = t_data.copy()\n",
    "    x_data_f = x_data.copy()\n",
    "    \n",
    "    if typ == 'train':\n",
    "        idx = np.random.choice(np.where((x_data == -1) | (x_data == 1))[0], num_t)\n",
    "        t_data = t_data[idx]\n",
    "        x_data = x_data[idx]\n",
    "        u_data = u_data[idx]\n",
    "        \n",
    "        init_idx = np.random.choice(N-1, num_x-2, replace=False) + 1\n",
    "        t_data = np.concatenate([t_data, np.zeros((num_x-2,1))], axis=0)\n",
    "        x_data = np.concatenate([x_data, x[init_idx]], axis=0)\n",
    "        u_data = np.concatenate([u_data, u[init_idx,0:1]], axis=0)\n",
    "        \n",
    "        return t_data, x_data, u_data, t_data_f, x_data_f\n",
    "   \n",
    "    else:\n",
    "        return t_data_f, x_data_f"
   ]
  },
  {
   "cell_type": "code",
   "execution_count": 7,
   "metadata": {},
   "outputs": [],
   "source": [
    "eq = 'HJPDE'"
   ]
  },
  {
   "cell_type": "code",
   "execution_count": 8,
   "metadata": {},
   "outputs": [],
   "source": [
    "t_data, x_data, u_data, t_data_f, x_data_f = lone_generator(num_t, num_x)  "
   ]
  },
  {
   "cell_type": "code",
   "execution_count": 9,
   "metadata": {},
   "outputs": [],
   "source": [
    "variables = torch.FloatTensor(np.concatenate((t_data, x_data), 1)).to(device)\n",
    "variables_f = torch.FloatTensor(np.concatenate((t_data_f, x_data_f), 1)).to(device)\n",
    "variables_f.requires_grad = True\n",
    "u_data = torch.FloatTensor(u_data).to(device)"
   ]
  },
  {
   "cell_type": "code",
   "execution_count": 10,
   "metadata": {},
   "outputs": [],
   "source": [
    "layer_list = [2] + num_hidden * [num_nodes] + [1]\n",
    "pinn = pinn(layer_list).to(device)"
   ]
  },
  {
   "cell_type": "code",
   "execution_count": 11,
   "metadata": {},
   "outputs": [],
   "source": [
    "optimizer = torch.optim.Adam(pinn.parameters(), betas=(0.999,0.999), lr=lr)\n",
    "loss_graph = []\n",
    "ls = 100\n",
    "bep = 0"
   ]
  },
  {
   "cell_type": "code",
   "execution_count": 12,
   "metadata": {},
   "outputs": [
    {
     "name": "stderr",
     "output_type": "stream",
     "text": [
      "  0%|          | 4/50000 [00:00<1:52:10,  7.43it/s]"
     ]
    },
    {
     "name": "stdout",
     "output_type": "stream",
     "text": [
      "Train loss: 0.15646159648895264\n"
     ]
    },
    {
     "name": "stderr",
     "output_type": "stream",
     "text": [
      "  2%|▏         | 1006/50000 [00:36<28:52, 28.28it/s]"
     ]
    },
    {
     "name": "stdout",
     "output_type": "stream",
     "text": [
      "Train loss: 0.02672324702143669\n"
     ]
    },
    {
     "name": "stderr",
     "output_type": "stream",
     "text": [
      "  4%|▍         | 2005/50000 [01:11<28:34, 28.00it/s]"
     ]
    },
    {
     "name": "stdout",
     "output_type": "stream",
     "text": [
      "Train loss: 0.003170530777424574\n"
     ]
    },
    {
     "name": "stderr",
     "output_type": "stream",
     "text": [
      "  6%|▌         | 3004/50000 [01:47<28:22, 27.60it/s]"
     ]
    },
    {
     "name": "stdout",
     "output_type": "stream",
     "text": [
      "Train loss: 0.0006888405187055469\n"
     ]
    },
    {
     "name": "stderr",
     "output_type": "stream",
     "text": [
      "  8%|▊         | 4006/50000 [02:23<27:29, 27.88it/s]"
     ]
    },
    {
     "name": "stdout",
     "output_type": "stream",
     "text": [
      "Train loss: 0.0017324222717434168\n"
     ]
    },
    {
     "name": "stderr",
     "output_type": "stream",
     "text": [
      " 10%|█         | 5005/50000 [02:59<26:45, 28.03it/s]"
     ]
    },
    {
     "name": "stdout",
     "output_type": "stream",
     "text": [
      "Train loss: 0.00037914980202913284\n"
     ]
    },
    {
     "name": "stderr",
     "output_type": "stream",
     "text": [
      " 12%|█▏        | 6004/50000 [03:35<26:15, 27.92it/s]"
     ]
    },
    {
     "name": "stdout",
     "output_type": "stream",
     "text": [
      "Train loss: 0.0004022739303763956\n"
     ]
    },
    {
     "name": "stderr",
     "output_type": "stream",
     "text": [
      " 14%|█▍        | 7006/50000 [04:10<25:47, 27.79it/s]"
     ]
    },
    {
     "name": "stdout",
     "output_type": "stream",
     "text": [
      "Train loss: 0.0001883172953967005\n"
     ]
    },
    {
     "name": "stderr",
     "output_type": "stream",
     "text": [
      " 16%|█▌        | 8005/50000 [04:46<25:14, 27.72it/s]"
     ]
    },
    {
     "name": "stdout",
     "output_type": "stream",
     "text": [
      "Train loss: 5.716300802305341e-05\n"
     ]
    },
    {
     "name": "stderr",
     "output_type": "stream",
     "text": [
      " 18%|█▊        | 9004/50000 [05:22<24:30, 27.88it/s]"
     ]
    },
    {
     "name": "stdout",
     "output_type": "stream",
     "text": [
      "Train loss: 3.5442419175524265e-05\n"
     ]
    },
    {
     "name": "stderr",
     "output_type": "stream",
     "text": [
      " 20%|██        | 10006/50000 [05:58<24:09, 27.58it/s]"
     ]
    },
    {
     "name": "stdout",
     "output_type": "stream",
     "text": [
      "Train loss: 1.334185799350962e-05\n"
     ]
    },
    {
     "name": "stderr",
     "output_type": "stream",
     "text": [
      " 22%|██▏       | 11005/50000 [06:34<23:13, 27.99it/s]"
     ]
    },
    {
     "name": "stdout",
     "output_type": "stream",
     "text": [
      "Train loss: 8.504432116751559e-06\n"
     ]
    },
    {
     "name": "stderr",
     "output_type": "stream",
     "text": [
      " 24%|██▍       | 12004/50000 [07:10<22:44, 27.85it/s]"
     ]
    },
    {
     "name": "stdout",
     "output_type": "stream",
     "text": [
      "Train loss: 4.447156243259087e-06\n"
     ]
    },
    {
     "name": "stderr",
     "output_type": "stream",
     "text": [
      " 26%|██▌       | 13006/50000 [07:45<21:57, 28.08it/s]"
     ]
    },
    {
     "name": "stdout",
     "output_type": "stream",
     "text": [
      "Train loss: 2.3995571609702893e-06\n"
     ]
    },
    {
     "name": "stderr",
     "output_type": "stream",
     "text": [
      " 28%|██▊       | 14005/50000 [08:21<21:31, 27.88it/s]"
     ]
    },
    {
     "name": "stdout",
     "output_type": "stream",
     "text": [
      "Train loss: 1.1023445267710485e-06\n"
     ]
    },
    {
     "name": "stderr",
     "output_type": "stream",
     "text": [
      " 30%|███       | 15004/50000 [08:57<20:50, 28.00it/s]"
     ]
    },
    {
     "name": "stdout",
     "output_type": "stream",
     "text": [
      "Train loss: 7.924144824755786e-07\n"
     ]
    },
    {
     "name": "stderr",
     "output_type": "stream",
     "text": [
      " 32%|███▏      | 16006/50000 [09:33<20:26, 27.72it/s]"
     ]
    },
    {
     "name": "stdout",
     "output_type": "stream",
     "text": [
      "Train loss: 5.726718654841534e-07\n"
     ]
    },
    {
     "name": "stderr",
     "output_type": "stream",
     "text": [
      " 34%|███▍      | 17005/50000 [10:09<19:45, 27.83it/s]"
     ]
    },
    {
     "name": "stdout",
     "output_type": "stream",
     "text": [
      "Train loss: 3.9901937043396174e-07\n"
     ]
    },
    {
     "name": "stderr",
     "output_type": "stream",
     "text": [
      " 36%|███▌      | 18004/50000 [10:45<19:14, 27.73it/s]"
     ]
    },
    {
     "name": "stdout",
     "output_type": "stream",
     "text": [
      "Train loss: 3.5606788628683717e-07\n"
     ]
    },
    {
     "name": "stderr",
     "output_type": "stream",
     "text": [
      " 38%|███▊      | 19006/50000 [11:21<18:36, 27.77it/s]"
     ]
    },
    {
     "name": "stdout",
     "output_type": "stream",
     "text": [
      "Train loss: 4.0529505440645153e-07\n"
     ]
    },
    {
     "name": "stderr",
     "output_type": "stream",
     "text": [
      " 40%|████      | 20005/50000 [11:56<17:57, 27.84it/s]"
     ]
    },
    {
     "name": "stdout",
     "output_type": "stream",
     "text": [
      "Train loss: 1.3021309541727533e-07\n"
     ]
    },
    {
     "name": "stderr",
     "output_type": "stream",
     "text": [
      " 42%|████▏     | 21004/50000 [12:32<17:25, 27.75it/s]"
     ]
    },
    {
     "name": "stdout",
     "output_type": "stream",
     "text": [
      "Train loss: 1.0404097849914251e-07\n"
     ]
    },
    {
     "name": "stderr",
     "output_type": "stream",
     "text": [
      " 44%|████▍     | 22006/50000 [13:08<16:35, 28.13it/s]"
     ]
    },
    {
     "name": "stdout",
     "output_type": "stream",
     "text": [
      "Train loss: 1.0375653403116303e-07\n"
     ]
    },
    {
     "name": "stderr",
     "output_type": "stream",
     "text": [
      " 46%|████▌     | 23005/50000 [13:44<16:10, 27.80it/s]"
     ]
    },
    {
     "name": "stdout",
     "output_type": "stream",
     "text": [
      "Train loss: 1.3766631923317618e-07\n"
     ]
    },
    {
     "name": "stderr",
     "output_type": "stream",
     "text": [
      " 48%|████▊     | 24004/50000 [14:20<15:24, 28.13it/s]"
     ]
    },
    {
     "name": "stdout",
     "output_type": "stream",
     "text": [
      "Train loss: 2.436534884964203e-07\n"
     ]
    },
    {
     "name": "stderr",
     "output_type": "stream",
     "text": [
      " 50%|█████     | 25006/50000 [14:56<14:49, 28.10it/s]"
     ]
    },
    {
     "name": "stdout",
     "output_type": "stream",
     "text": [
      "Train loss: 1.8935166679057147e-07\n"
     ]
    },
    {
     "name": "stderr",
     "output_type": "stream",
     "text": [
      " 52%|█████▏    | 26005/50000 [15:32<14:26, 27.68it/s]"
     ]
    },
    {
     "name": "stdout",
     "output_type": "stream",
     "text": [
      "Train loss: 7.323216522081566e-08\n"
     ]
    },
    {
     "name": "stderr",
     "output_type": "stream",
     "text": [
      " 54%|█████▍    | 27004/50000 [16:07<13:40, 28.03it/s]"
     ]
    },
    {
     "name": "stdout",
     "output_type": "stream",
     "text": [
      "Train loss: 5.195440166971821e-08\n"
     ]
    },
    {
     "name": "stderr",
     "output_type": "stream",
     "text": [
      " 56%|█████▌    | 28006/50000 [16:43<13:04, 28.04it/s]"
     ]
    },
    {
     "name": "stdout",
     "output_type": "stream",
     "text": [
      "Train loss: 2.3298500195778615e-07\n"
     ]
    },
    {
     "name": "stderr",
     "output_type": "stream",
     "text": [
      " 58%|█████▊    | 29005/50000 [17:19<12:34, 27.82it/s]"
     ]
    },
    {
     "name": "stdout",
     "output_type": "stream",
     "text": [
      "Train loss: 1.773538826910226e-07\n"
     ]
    },
    {
     "name": "stderr",
     "output_type": "stream",
     "text": [
      " 60%|██████    | 30004/50000 [17:55<11:54, 27.98it/s]"
     ]
    },
    {
     "name": "stdout",
     "output_type": "stream",
     "text": [
      "Train loss: 3.5245214746737474e-08\n"
     ]
    },
    {
     "name": "stderr",
     "output_type": "stream",
     "text": [
      " 62%|██████▏   | 31006/50000 [18:31<11:22, 27.83it/s]"
     ]
    },
    {
     "name": "stdout",
     "output_type": "stream",
     "text": [
      "Train loss: 6.094037985349132e-08\n"
     ]
    },
    {
     "name": "stderr",
     "output_type": "stream",
     "text": [
      " 64%|██████▍   | 32005/50000 [19:07<10:44, 27.94it/s]"
     ]
    },
    {
     "name": "stdout",
     "output_type": "stream",
     "text": [
      "Train loss: 4.445527679308725e-08\n"
     ]
    },
    {
     "name": "stderr",
     "output_type": "stream",
     "text": [
      " 66%|██████▌   | 33004/50000 [19:42<10:08, 27.92it/s]"
     ]
    },
    {
     "name": "stdout",
     "output_type": "stream",
     "text": [
      "Train loss: 1.50547350585839e-07\n"
     ]
    },
    {
     "name": "stderr",
     "output_type": "stream",
     "text": [
      " 68%|██████▊   | 34006/50000 [20:18<09:38, 27.64it/s]"
     ]
    },
    {
     "name": "stdout",
     "output_type": "stream",
     "text": [
      "Train loss: 1.9261941019976803e-07\n"
     ]
    },
    {
     "name": "stderr",
     "output_type": "stream",
     "text": [
      " 70%|███████   | 35005/50000 [20:54<09:01, 27.67it/s]"
     ]
    },
    {
     "name": "stdout",
     "output_type": "stream",
     "text": [
      "Train loss: 1.283283239672528e-07\n"
     ]
    },
    {
     "name": "stderr",
     "output_type": "stream",
     "text": [
      " 72%|███████▏  | 36004/50000 [21:30<08:21, 27.90it/s]"
     ]
    },
    {
     "name": "stdout",
     "output_type": "stream",
     "text": [
      "Train loss: 5.379937562111081e-08\n"
     ]
    },
    {
     "name": "stderr",
     "output_type": "stream",
     "text": [
      " 74%|███████▍  | 37006/50000 [22:06<07:42, 28.11it/s]"
     ]
    },
    {
     "name": "stdout",
     "output_type": "stream",
     "text": [
      "Train loss: 1.571719963067153e-07\n"
     ]
    },
    {
     "name": "stderr",
     "output_type": "stream",
     "text": [
      " 76%|███████▌  | 38005/50000 [22:42<07:08, 28.01it/s]"
     ]
    },
    {
     "name": "stdout",
     "output_type": "stream",
     "text": [
      "Train loss: 1.9582904542403412e-07\n"
     ]
    },
    {
     "name": "stderr",
     "output_type": "stream",
     "text": [
      " 78%|███████▊  | 39004/50000 [23:17<06:36, 27.70it/s]"
     ]
    },
    {
     "name": "stdout",
     "output_type": "stream",
     "text": [
      "Train loss: 1.386788142099249e-07\n"
     ]
    },
    {
     "name": "stderr",
     "output_type": "stream",
     "text": [
      " 80%|████████  | 40006/50000 [23:53<05:57, 27.92it/s]"
     ]
    },
    {
     "name": "stdout",
     "output_type": "stream",
     "text": [
      "Train loss: 7.487025754926435e-08\n"
     ]
    },
    {
     "name": "stderr",
     "output_type": "stream",
     "text": [
      " 82%|████████▏ | 41005/50000 [24:29<05:25, 27.61it/s]"
     ]
    },
    {
     "name": "stdout",
     "output_type": "stream",
     "text": [
      "Train loss: 1.8222081621388497e-07\n"
     ]
    },
    {
     "name": "stderr",
     "output_type": "stream",
     "text": [
      " 84%|████████▍ | 42004/50000 [25:05<04:47, 27.82it/s]"
     ]
    },
    {
     "name": "stdout",
     "output_type": "stream",
     "text": [
      "Train loss: 2.10014583501561e-08\n"
     ]
    },
    {
     "name": "stderr",
     "output_type": "stream",
     "text": [
      " 86%|████████▌ | 43006/50000 [25:41<04:09, 28.04it/s]"
     ]
    },
    {
     "name": "stdout",
     "output_type": "stream",
     "text": [
      "Train loss: 2.023716945132037e-07\n"
     ]
    },
    {
     "name": "stderr",
     "output_type": "stream",
     "text": [
      " 88%|████████▊ | 44005/50000 [26:17<03:35, 27.83it/s]"
     ]
    },
    {
     "name": "stdout",
     "output_type": "stream",
     "text": [
      "Train loss: 1.4599521591662779e-07\n"
     ]
    },
    {
     "name": "stderr",
     "output_type": "stream",
     "text": [
      " 90%|█████████ | 45004/50000 [26:52<02:59, 27.88it/s]"
     ]
    },
    {
     "name": "stdout",
     "output_type": "stream",
     "text": [
      "Train loss: 6.580724232208013e-08\n"
     ]
    },
    {
     "name": "stderr",
     "output_type": "stream",
     "text": [
      " 92%|█████████▏| 46006/50000 [27:28<02:25, 27.54it/s]"
     ]
    },
    {
     "name": "stdout",
     "output_type": "stream",
     "text": [
      "Train loss: 6.888665637916347e-08\n"
     ]
    },
    {
     "name": "stderr",
     "output_type": "stream",
     "text": [
      " 94%|█████████▍| 47005/50000 [28:04<01:47, 27.82it/s]"
     ]
    },
    {
     "name": "stdout",
     "output_type": "stream",
     "text": [
      "Train loss: 1.8099069620802766e-07\n"
     ]
    },
    {
     "name": "stderr",
     "output_type": "stream",
     "text": [
      " 96%|█████████▌| 48004/50000 [28:40<01:12, 27.64it/s]"
     ]
    },
    {
     "name": "stdout",
     "output_type": "stream",
     "text": [
      "Train loss: 1.2731710796742846e-08\n"
     ]
    },
    {
     "name": "stderr",
     "output_type": "stream",
     "text": [
      " 98%|█████████▊| 49006/50000 [29:16<00:35, 27.82it/s]"
     ]
    },
    {
     "name": "stdout",
     "output_type": "stream",
     "text": [
      "Train loss: 1.7604392610337527e-07\n"
     ]
    },
    {
     "name": "stderr",
     "output_type": "stream",
     "text": [
      "100%|██████████| 50000/50000 [29:52<00:00, 27.90it/s]\n"
     ]
    }
   ],
   "source": [
    "for ep in tqdm(range(num_epochs)):\n",
    "        \n",
    "        optimizer.zero_grad()\n",
    "        \n",
    "        # Full batch\n",
    "        u_hat = pinn(variables)\n",
    "        u_hat_f = pinn(variables_f)\n",
    "        \n",
    "    \n",
    "        loss_f = torch.mean(hamilton_jacobi_equation(u_hat_f, variables_f) ** 2)\n",
    "            \n",
    "        # loss_u = torch.mean((u_hat - u_data) ** 2)\n",
    "        #loss_u = torch.mean((u_hat-torch.tensor(x_data).to(device))**2)\n",
    "        loss = loss_f # + \n",
    "        loss.backward() \n",
    "        optimizer.step()\n",
    "        \n",
    "        l = loss.item()\n",
    "        loss_graph.append(l)\n",
    "        \n",
    "        if l < ls or True:\n",
    "            ls = l\n",
    "            bep = ep\n",
    "            torch.save(pinn.state_dict(), './'+eq+'_1d.pth')\n",
    "            \n",
    "        if ep % 1000 == 0:\n",
    "            print(f\"Train loss: {l}\") "
   ]
  },
  {
   "cell_type": "code",
   "execution_count": 13,
   "metadata": {},
   "outputs": [
    {
     "name": "stdout",
     "output_type": "stream",
     "text": [
      "[Best][Epoch: 49999] Train loss: 7.444685223845227e-08\n"
     ]
    },
    {
     "data": {
      "image/png": "[encoded data removed]",
      "text/plain": [
       "<Figure size 1000x500 with 1 Axes>"
      ]
     },
     "metadata": {},
     "output_type": "display_data"
    }
   ],
   "source": [
    "print(f\"[Best][Epoch: {bep}] Train loss: {ls}\") \n",
    "plt.figure(figsize=(10, 5))\n",
    "plt.plot(loss_graph)\n",
    "plt.yscale('log')\n",
    "plt.show()"
   ]
  },
  {
   "cell_type": "code",
   "execution_count": 14,
   "metadata": {},
   "outputs": [
    {
     "data": {
      "text/plain": [
       "<All keys matched successfully>"
      ]
     },
     "execution_count": 14,
     "metadata": {},
     "output_type": "execute_result"
    }
   ],
   "source": [
    "pinn.load_state_dict(torch.load('./'+eq+'_1d.pth'))"
   ]
  },
  {
   "cell_type": "code",
   "execution_count": 15,
   "metadata": {},
   "outputs": [
    {
     "name": "stdout",
     "output_type": "stream",
     "text": [
      "torch.Size([65536, 2])\n"
     ]
    }
   ],
   "source": [
    "t_test, x_test = lone_generator(256, 256, typ='test')\n",
    "t = np.linspace(0, 1, 256).reshape(-1,1)\n",
    "#print(np.linspace(0, 1, 101))\n",
    "#print(t)\n",
    "x = np.linspace(-1, 1, 256).reshape(-1,1)\n",
    "#print('hi')\n",
    "#print(x)\n",
    "T = t.shape[0]\n",
    "N = x.shape[0]\n",
    "test_variables = torch.FloatTensor(np.concatenate((t_test, x_test), 1)).to(device)\n",
    "print(test_variables.shape)"
   ]
  },
  {
   "cell_type": "code",
   "execution_count": 18,
   "metadata": {},
   "outputs": [
    {
     "name": "stdout",
     "output_type": "stream",
     "text": [
      "torch.Size([65536, 1])\n"
     ]
    },
    {
     "data": {
      "image/png": "[encoded data removed]",
      "text/plain": [
       "<Figure size 640x480 with 1 Axes>"
      ]
     },
     "metadata": {},
     "output_type": "display_data"
    },
    {
     "name": "stdout",
     "output_type": "stream",
     "text": [
      "[[1.         0.9980397  0.99607944 ... 0.50392234 0.5019851  0.5000508 ]\n",
      " [0.99215686 0.9901965  0.9882361  ... 0.49612916 0.4941985  0.49227124]\n",
      " [0.9843137  0.98235327 0.9803928  ... 0.4883495  0.4864262  0.48450747]\n",
      " ...\n",
      " [0.9843137  0.9823529  0.9803922  ... 0.48829246 0.4863659  0.4844444 ]\n",
      " [0.99215686 0.99019605 0.9882353  ... 0.4960814  0.4941458  0.49221414]\n",
      " [1.         0.9980391  0.99607825 ... 0.50388694 0.50194335 0.5000033 ]]\n",
      "L2 Relative Error: 0.13313829898834229\n"
     ]
    }
   ],
   "source": [
    "t_test, x_test = lone_generator(256, 256, typ='test')\n",
    "t = np.linspace(0, 1, 256).reshape(-1,1)\n",
    "#print(np.linspace(0, 1, 101))\n",
    "#print(t)\n",
    "x = np.linspace(-1, 1, 256).reshape(-1,1)\n",
    "#print('hi')\n",
    "#print(x)\n",
    "T = t.shape[0]\n",
    "N = x.shape[0]\n",
    "test_variables = torch.FloatTensor(np.concatenate((t_test, x_test), 1)).to(device)\n",
    "with torch.no_grad():\n",
    "    u_pred = pinn(test_variables)\n",
    "print(u_pred.shape)\n",
    "u_pred = u_pred.cpu().numpy().reshape(N,T)\n",
    "\n",
    "#print(u_pred.shape)\n",
    "t_step = int(0.99*len(t))\n",
    "#print(u_pred[:,t_step])\n",
    "#plt.plot(x, u_pred[:,t_step],'--')\n",
    "#plt.show()\n",
    "\n",
    "# reference data\n",
    "# def f(x):\n",
    "#     if torch.absolute(x)<=1:\n",
    "#         return 1/2*(x**2+t**2)\n",
    "#     else:\n",
    "#         return torch.absolute(x)+t-1/2\n",
    "\n",
    "\n",
    "def f_l1(x,y):\n",
    "    f = torch.zeros(256, 256)\n",
    "    for j in range(len(y)):\n",
    "        for i in range(len(x)):\n",
    "            if torch.absolute(x[i])<y[j]:\n",
    "                f[i,j] = 1/(2*y[j])*x[i]**2\n",
    "            else:\n",
    "                f[i,j] = torch.absolute(x[i])-y[j]/2\n",
    "    return f\n",
    "\n",
    "# function if initial function is x^2:\n",
    "def f(x,y):\n",
    "    f = torch.zeros(256, 256)\n",
    "    for j in range(len(y)):\n",
    "        for i in range(len(x)):\n",
    "                f[i,j] = x[i]**2/(2*y[j]+1)\n",
    "    return f\n",
    "        \n",
    "# def f(x):\n",
    "#     f = []\n",
    "#     for i in range(len(x[:,0])):\n",
    "#         for j in range(len(x[:,1])):\n",
    "#             if torch.absolute(x[i,0])<=x[j,1]:\n",
    "#                 f.append(1/2*x[i,0]**2)\n",
    "#             else:\n",
    "#                 f.append(torch.absolute(x[i, 0])-x[j, 1]/2)\n",
    "#     return f\n",
    "\n",
    "\n",
    "interval_x = torch.arange(-1,1, 2/256)\n",
    "# #print(interval_x)\n",
    "interval_t = torch.arange(0,1, 1/256)\n",
    "# #print(interval_t)\n",
    "\n",
    "# interval = torch.stack((interval_x, interval_t), 1)\n",
    "# print(interval)\n",
    "\n",
    "#interval = torch.cartesian_prod(interval_x, interval_t)\n",
    "#print(interval[0, 1])\n",
    "\n",
    "#data = torch.tensor(list(map(f, interval_x, interval_t)))\n",
    "\n",
    "data = f(interval_x, interval_t)\n",
    "\n",
    "# data =  f(interval) \n",
    "# Exact = np.real(data['usol'])\n",
    "  \n",
    "Exact = data.cpu().numpy()\n",
    "\n",
    "plt.plot(interval_x, Exact[:,0])\n",
    "plt.show()\n",
    "\n",
    "# print(u_pred)\n",
    "# print(u_pred[:,:-1])\n",
    "#err = u_pred[:,:-1]-Exact\n",
    "\n",
    "print(u_pred)\n",
    "\n",
    "err = err = u_pred-Exact\n",
    "\n",
    "# f_0 = []\n",
    "# for i in range(len(interval[:,0])):\n",
    "#     for j in range(len(interval[:,1])):\n",
    "#         if interval[j,1] == 0.5:\n",
    "#             if torch.absolute(interval[i,0])<=interval[j,1]:\n",
    "#                 f_0.append(1/2*interval[i,0]**2)\n",
    "#             else:\n",
    "#                 f_0.append(torch.absolute(interval[i, 0])-interval[j, 1]/2)\n",
    "            \n",
    "# print(f_0)\n",
    "\n",
    "#print(err)\n",
    "\n",
    "err = np.linalg.norm(err,2)/np.linalg.norm(data,2)   \n",
    "print(f\"L2 Relative Error: {err}\")"
   ]
  },
  {
   "cell_type": "code",
   "execution_count": 19,
   "metadata": {},
   "outputs": [
    {
     "data": {
      "image/png": "[encoded data removed]",
      "text/plain": [
       "<Figure size 1000x1000 with 4 Axes>"
      ]
     },
     "metadata": {},
     "output_type": "display_data"
    }
   ],
   "source": [
    "resplot(x, t, t_data, x_data, data, u_pred)"
   ]
  },
  {
   "cell_type": "code",
   "execution_count": null,
   "metadata": {},
   "outputs": [
    {
     "data": {
      "image/png": "[encoded data removed]",
      "text/plain": [
       "<Figure size 1000x500 with 1 Axes>"
      ]
     },
     "metadata": {},
     "output_type": "display_data"
    }
   ],
   "source": [
    "plt.figure(figsize=(10, 5))\n",
    "plt.imshow(u_pred, interpolation='nearest', cmap='jet',\n",
    "            extent=[t.min(), t.max(), x.min(), x.max()],\n",
    "            origin='lower', aspect='auto')\n",
    "plt.clim(-1, 1)\n",
    "plt.ylim(-1,1)\n",
    "plt.xlim(0,1)\n",
    "plt.scatter(t_data, x_data)\n",
    "plt.xlabel('t')\n",
    "plt.ylabel('x')\n",
    "plt.title('u(t,x)')\n",
    "plt.show()"
   ]
  }
 ],
 "metadata": {
  "kernelspec": {
   "display_name": "lion",
   "language": "python",
   "name": "python3"
  },
  "language_info": {
   "codemirror_mode": {
    "name": "ipython",
    "version": 3
   },
   "file_extension": ".py",
   "mimetype": "text/x-python",
   "name": "python",
   "nbconvert_exporter": "python",
   "pygments_lexer": "ipython3",
   "version": "3.10.12"
  }
 },
 "nbformat": 4,
 "nbformat_minor": 2
}
